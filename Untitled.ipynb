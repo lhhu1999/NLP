{
 "cells": [
  {
   "cell_type": "code",
   "execution_count": null,
   "id": "4320134e-676d-492e-8285-f27591db7c4f",
   "metadata": {},
   "outputs": [
    {
     "name": "stdout",
     "output_type": "stream",
     "text": [
      ">>>>>> 实体抽取模型运行在： cuda\n",
      ">>>>>> 情感分析模型运行在： cuda\n",
      ">>>>>> 请输入内容："
     ]
    },
    {
     "name": "stdin",
     "output_type": "stream",
     "text": [
      " 你为什么喜欢这里？\n"
     ]
    },
    {
     "name": "stderr",
     "output_type": "stream",
     "text": [
      "Building prefix dict from the default dictionary ...\n",
      "Loading model from cache /tmp/jieba.cache\n"
     ]
    },
    {
     "name": "stdout",
     "output_type": "stream",
     "text": [
      "############################### 情感分析 #################################\n"
     ]
    },
    {
     "name": "stderr",
     "output_type": "stream",
     "text": [
      "Loading model cost 0.767 seconds.\n",
      "Prefix dict has been built successfully.\n",
      "100%|██████████| 1/1 [00:00<00:00, 4346.43it/s]\n"
     ]
    },
    {
     "name": "stdout",
     "output_type": "stream",
     "text": [
      ">>> Model loaded successfully ...\n"
     ]
    },
    {
     "name": "stderr",
     "output_type": "stream",
     "text": [
      "Test:   0%|\u001b[32m          \u001b[0m| 0/1 [00:00<?, ?it/s]"
     ]
    },
    {
     "name": "stdout",
     "output_type": "stream",
     "text": [
      ">>> 划分结果：['喜欢']\n"
     ]
    },
    {
     "name": "stderr",
     "output_type": "stream",
     "text": [
      "Test: 100%|\u001b[32m██████████\u001b[0m| 1/1 [00:00<00:00,  1.55it/s]\n"
     ]
    },
    {
     "name": "stdout",
     "output_type": "stream",
     "text": [
      ">>> 积极概率：0.8249   消极概率：0.1751\n",
      "############################### 实体抽取 #################################\n",
      ">>> Model loaded successfully ...\n"
     ]
    },
    {
     "name": "stderr",
     "output_type": "stream",
     "text": [
      "Test: 100%|\u001b[32m██████████\u001b[0m| 1/1 [00:00<00:00, 20.28it/s]\n"
     ]
    },
    {
     "name": "stdout",
     "output_type": "stream",
     "text": [
      ">>> 处理后文本：你为什么喜欢这里\n",
      ">>> 预测标签：[0, 0, 0, 0, 0, 0, 0, 0]\n",
      "#########################################################################\n",
      ">>>>>> 请输入内容："
     ]
    },
    {
     "name": "stdin",
     "output_type": "stream",
     "text": [
      " 在华夏银行实习如何？\n"
     ]
    },
    {
     "name": "stdout",
     "output_type": "stream",
     "text": [
      "############################### 情感分析 #################################\n"
     ]
    },
    {
     "name": "stderr",
     "output_type": "stream",
     "text": [
      "100%|██████████| 1/1 [00:00<00:00, 4387.35it/s]\n"
     ]
    },
    {
     "name": "stdout",
     "output_type": "stream",
     "text": [
      ">>> Model loaded successfully ...\n"
     ]
    },
    {
     "name": "stderr",
     "output_type": "stream",
     "text": [
      "Test: 100%|\u001b[32m██████████\u001b[0m| 1/1 [00:00<00:00, 471.22it/s]"
     ]
    },
    {
     "name": "stdout",
     "output_type": "stream",
     "text": [
      ">>> 划分结果：['华夏银行', '实习']\n",
      ">>> 积极概率：0.9908   消极概率：0.0092\n",
      "############################### 实体抽取 #################################\n"
     ]
    },
    {
     "name": "stderr",
     "output_type": "stream",
     "text": [
      "\n"
     ]
    },
    {
     "name": "stdout",
     "output_type": "stream",
     "text": [
      ">>> Model loaded successfully ...\n"
     ]
    },
    {
     "name": "stderr",
     "output_type": "stream",
     "text": [
      "Test: 100%|\u001b[32m██████████\u001b[0m| 1/1 [00:00<00:00, 91.99it/s]\n"
     ]
    },
    {
     "name": "stdout",
     "output_type": "stream",
     "text": [
      ">>> 处理后文本：在华夏银行实习如何\n",
      ">>> 预测标签：[0, 1, 1, 1, 1, 0, 0, 0, 0]\n",
      ">>> 预测实体：华夏银行\n",
      "#########################################################################\n",
      ">>>>>> 请输入内容："
     ]
    },
    {
     "name": "stdin",
     "output_type": "stream",
     "text": [
      " 哪里天气最好？昆明\n"
     ]
    },
    {
     "name": "stdout",
     "output_type": "stream",
     "text": [
      "############################### 情感分析 #################################\n"
     ]
    },
    {
     "name": "stderr",
     "output_type": "stream",
     "text": [
      "100%|██████████| 1/1 [00:00<00:00, 4609.13it/s]\n"
     ]
    },
    {
     "name": "stdout",
     "output_type": "stream",
     "text": [
      ">>> Model loaded successfully ...\n"
     ]
    },
    {
     "name": "stderr",
     "output_type": "stream",
     "text": [
      "Test: 100%|\u001b[32m██████████\u001b[0m| 1/1 [00:00<00:00, 309.43it/s]"
     ]
    },
    {
     "name": "stdout",
     "output_type": "stream",
     "text": [
      ">>> 划分结果：['天气', '最好', '昆明']\n",
      ">>> 积极概率：0.3578   消极概率：0.6422\n",
      "############################### 实体抽取 #################################\n"
     ]
    },
    {
     "name": "stderr",
     "output_type": "stream",
     "text": [
      "\n"
     ]
    },
    {
     "name": "stdout",
     "output_type": "stream",
     "text": [
      ">>> Model loaded successfully ...\n"
     ]
    },
    {
     "name": "stderr",
     "output_type": "stream",
     "text": [
      "Test: 100%|\u001b[32m██████████\u001b[0m| 1/1 [00:00<00:00, 87.60it/s]\n"
     ]
    },
    {
     "name": "stdout",
     "output_type": "stream",
     "text": [
      ">>> 处理后文本：哪里天气最好昆明\n",
      ">>> 预测标签：[0, 0, 0, 0, 0, 0, 0, 0]\n",
      "#########################################################################\n",
      ">>>>>> 请输入内容："
     ]
    },
    {
     "name": "stdin",
     "output_type": "stream",
     "text": [
      " 昆明的天气最好\n"
     ]
    },
    {
     "name": "stdout",
     "output_type": "stream",
     "text": [
      "############################### 情感分析 #################################\n"
     ]
    },
    {
     "name": "stderr",
     "output_type": "stream",
     "text": [
      "100%|██████████| 1/1 [00:00<00:00, 4957.81it/s]\n"
     ]
    },
    {
     "name": "stdout",
     "output_type": "stream",
     "text": [
      ">>> Model loaded successfully ...\n"
     ]
    },
    {
     "name": "stderr",
     "output_type": "stream",
     "text": [
      "Test: 100%|\u001b[32m██████████\u001b[0m| 1/1 [00:00<00:00, 362.67it/s]"
     ]
    },
    {
     "name": "stdout",
     "output_type": "stream",
     "text": [
      ">>> 划分结果：['昆明', '天气', '最好']\n",
      ">>> 积极概率：0.3013   消极概率：0.6987\n",
      "############################### 实体抽取 #################################\n"
     ]
    },
    {
     "name": "stderr",
     "output_type": "stream",
     "text": [
      "\n"
     ]
    },
    {
     "name": "stdout",
     "output_type": "stream",
     "text": [
      ">>> Model loaded successfully ...\n"
     ]
    },
    {
     "name": "stderr",
     "output_type": "stream",
     "text": [
      "Test: 100%|\u001b[32m██████████\u001b[0m| 1/1 [00:00<00:00, 90.31it/s]\n"
     ]
    },
    {
     "name": "stdout",
     "output_type": "stream",
     "text": [
      ">>> 处理后文本：昆明的天气最好\n",
      ">>> 预测标签：[0, 0, 0, 0, 0, 0, 0]\n",
      "#########################################################################\n",
      ">>>>>> 请输入内容："
     ]
    },
    {
     "name": "stdin",
     "output_type": "stream",
     "text": [
      " 他做的还是很不错的！\n"
     ]
    },
    {
     "name": "stdout",
     "output_type": "stream",
     "text": [
      "############################### 情感分析 #################################\n"
     ]
    },
    {
     "name": "stderr",
     "output_type": "stream",
     "text": [
      "100%|██████████| 1/1 [00:00<00:00, 3097.71it/s]\n"
     ]
    },
    {
     "name": "stdout",
     "output_type": "stream",
     "text": [
      ">>> Model loaded successfully ...\n"
     ]
    },
    {
     "name": "stderr",
     "output_type": "stream",
     "text": [
      "Test: 100%|\u001b[32m██████████\u001b[0m| 1/1 [00:00<00:00, 343.46it/s]"
     ]
    },
    {
     "name": "stdout",
     "output_type": "stream",
     "text": [
      ">>> 划分结果：['做', '很', '不错']\n",
      ">>> 积极概率：1.0000   消极概率：0.0000\n",
      "############################### 实体抽取 #################################\n"
     ]
    },
    {
     "name": "stderr",
     "output_type": "stream",
     "text": [
      "\n"
     ]
    },
    {
     "name": "stdout",
     "output_type": "stream",
     "text": [
      ">>> Model loaded successfully ...\n"
     ]
    },
    {
     "name": "stderr",
     "output_type": "stream",
     "text": [
      "Test: 100%|\u001b[32m██████████\u001b[0m| 1/1 [00:00<00:00, 92.07it/s]\n"
     ]
    },
    {
     "name": "stdout",
     "output_type": "stream",
     "text": [
      ">>> 处理后文本：他做的还是很不错的\n",
      ">>> 预测标签：[0, 0, 0, 0, 0, 0, 0, 0, 0]\n",
      "#########################################################################\n",
      ">>>>>> 请输入内容："
     ]
    }
   ],
   "source": [
    "%run test.py"
   ]
  },
  {
   "cell_type": "code",
   "execution_count": null,
   "id": "bf821a73-1eb8-414d-9c38-a8ef4a85a990",
   "metadata": {},
   "outputs": [],
   "source": []
  }
 ],
 "metadata": {
  "kernelspec": {
   "display_name": "Python 3 (ipykernel)",
   "language": "python",
   "name": "python3"
  },
  "language_info": {
   "codemirror_mode": {
    "name": "ipython",
    "version": 3
   },
   "file_extension": ".py",
   "mimetype": "text/x-python",
   "name": "python",
   "nbconvert_exporter": "python",
   "pygments_lexer": "ipython3",
   "version": "3.8.17"
  }
 },
 "nbformat": 4,
 "nbformat_minor": 5
}
